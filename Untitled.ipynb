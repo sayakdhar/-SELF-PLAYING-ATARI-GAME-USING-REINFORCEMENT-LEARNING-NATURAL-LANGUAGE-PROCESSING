{
 "cells": [
  {
   "cell_type": "code",
   "execution_count": 1,
   "metadata": {},
   "outputs": [],
   "source": [
    "import numpy as np\n",
    "import cv2\n",
    "import pickle\n",
    "from numpy import unravel_index"
   ]
  },
  {
   "cell_type": "code",
   "execution_count": 2,
   "metadata": {},
   "outputs": [],
   "source": [
    "templates = {\n",
    "\t'ladder':cv2.imread('templates/ladder.jpg',1),\n",
    "\t'key':cv2.imread('templates/key.jpg',1),\n",
    "\t'rope':cv2.imread('templates/rope.jpg',1),\n",
    "\t'sprite':cv2.imread('templates/sprite.jpg',1),\n",
    "\t'sprite_side':cv2.imread('templates/sprite.jpg',0),\n",
    "\t'sprite_back':cv2.imread('templates/sprite_back.jpg',0),\n",
    "\t'gate':cv2.imread('templates/gate.jpg',1),\n",
    "}"
   ]
  },
  {
   "cell_type": "code",
   "execution_count": 3,
   "metadata": {},
   "outputs": [],
   "source": [
    "thresholds = {\n",
    "\t'ladder':0.9,\n",
    "\t'key':0.9,\n",
    "\t'rope':0.9,\n",
    "\t'sprite':0.9,\n",
    "\t'gate':0.85,\n",
    "}"
   ]
  },
  {
   "cell_type": "code",
   "execution_count": 4,
   "metadata": {},
   "outputs": [],
   "source": [
    "def find_all_objects():\n",
    "\n",
    "\timage = cv2.imread('templates/room1.jpg',1)\n",
    "\n",
    "\tboxed_image = image.copy()\n",
    "\n",
    "\tlist_of_locations = {\n",
    "\t\t'sprite':None,\n",
    "\t\t'gate':None,\n",
    "\t\t'ladder':None,\n",
    "\t\t'key':None,\n",
    "\t\t'rope':None,\n",
    "\t}\n",
    "\n",
    "\tfor obj in ['sprite','gate','ladder','key','rope']:\n",
    "\n",
    "\t\tres = cv2.matchTemplate(image,templates[obj],cv2.TM_CCOEFF_NORMED)\n",
    "\t\tloc = np.where(res >= thresholds[obj])\n",
    "\t\th,w,_ = templates[obj].shape[:]\n",
    "\n",
    "\t\tif len(loc[0]) == 1:\n",
    "\n",
    "\t\t\tpt = (loc[0][0],loc[1][0])\n",
    "\t\t\tcv2.rectangle(boxed_image, pt, (pt[0] + w, pt[1] + h), (0,255,255), 2)\n",
    "\n",
    "\t\t\tlist_of_locations[obj] = (pt[0] + w//2, pt[1] + h//2)\n",
    "\n",
    "\t\telif len(loc[0]) > 1:\n",
    "\n",
    "\t\t\tselected = []\n",
    "\n",
    "\t\t\tfor frame in zip(*loc[::-1]):\n",
    "\n",
    "\t\t\t\tfound_nearby = False\n",
    "\t\t\t\t\n",
    "\t\t\t\tfor sel in selected:\n",
    "\t\t\t\t\tif abs(sel[0] - frame[0]) + abs(sel[1] - frame[1]) <= 20:\n",
    "\t\t\t\t\t\tfound_nearby = True\n",
    "\t\t\t\t\t\tbreak\n",
    "\n",
    "\t\t\t\tif found_nearby:\n",
    "\t\t\t\t\tcontinue\n",
    "\n",
    "\t\t\t\tselected.append(frame)\n",
    "\n",
    "\t\t\t\tcv2.rectangle(boxed_image, frame, (frame[0] + w, frame[1] + h), (0,255,255), 2)\n",
    "\n",
    "\t\t\tif len(selected) == 1:\n",
    "\t\t\t\tlist_of_locations[obj] = (selected[0][0] + w//2, selected[0][1] + h//2)\n",
    "\t\t\telse:\n",
    "\t\t\t\tlist_of_locations[obj] = [(sel[0] + w//2,sel[1] + h//2) for sel in selected]\n",
    "\n",
    "\tprint (list_of_locations)\n",
    "\t'''\n",
    "\tc1 = cv2.copyMakeBorder(image,10,10,10,10,cv2.BORDER_CONSTANT,value=[255,255,255])\n",
    "\tc2 = cv2.copyMakeBorder(boxed_image,10,10,10,10,cv2.BORDER_CONSTANT,value=[255,255,255])\n",
    "\n",
    "\tboth = np.hstack((c1,c2))\n",
    "\n",
    "\tcv2.imshow('Templates',both)\n",
    "\tcv2.waitKey(0)\n",
    "\tcv2.destroyAllWindows()\n",
    "\t'''\n",
    "\treturn list_of_locations"
   ]
  },
  {
   "cell_type": "code",
   "execution_count": 5,
   "metadata": {},
   "outputs": [
    {
     "name": "stdout",
     "output_type": "stream",
     "text": [
      "{'sprite': (77, 86), 'gate': [(22, 68), (138, 68)], 'ladder': [(80, 115), (24, 158), (136, 158)], 'key': (103, 19), 'rope': (112, 113)}\n"
     ]
    },
    {
     "data": {
      "text/plain": [
       "{'sprite': (77, 86),\n",
       " 'gate': [(22, 68), (138, 68)],\n",
       " 'ladder': [(80, 115), (24, 158), (136, 158)],\n",
       " 'key': (103, 19),\n",
       " 'rope': (112, 113)}"
      ]
     },
     "execution_count": 5,
     "metadata": {},
     "output_type": "execute_result"
    }
   ],
   "source": [
    "find_all_objects()"
   ]
  },
  {
   "cell_type": "code",
   "execution_count": 6,
   "metadata": {},
   "outputs": [],
   "source": [
    "def show_image(image):\n",
    "\n",
    "\timage = image[:,:,::-1]\n",
    "\n",
    "\tcv2.imshow('Debug',image)\n",
    "\tcv2.waitKey(0)\n",
    "\tcv2.destroyAllWindows()"
   ]
  },
  {
   "cell_type": "code",
   "execution_count": 7,
   "metadata": {},
   "outputs": [],
   "source": [
    "def find_sprite(image):\n",
    "\n",
    "\timage = image[:,:,::-1]\n",
    "\n",
    "\timg = cv2.cvtColor(image, cv2.COLOR_BGR2GRAY)\n",
    "\n",
    "\tres1 = cv2.matchTemplate(img,templates['sprite_side'],cv2.TM_CCOEFF_NORMED)\n",
    "\tres2 = cv2.matchTemplate(img,templates['sprite_back'],cv2.TM_CCOEFF_NORMED)\n",
    "\n",
    "\t#cv2.imshow('res1',res1)\n",
    "\t#cv2.waitKey()\n",
    "\n",
    "\t#cv2.imshow('res2',res2)\n",
    "\t#cv2.waitKey()\n",
    "\n",
    "\th1,w1 = templates['sprite_side'].shape[:]\n",
    "\th2,w2 = templates['sprite_back'].shape[:]\n",
    "\n",
    "\tif np.amax(res1) > np.amax(res2):\n",
    "\t\tpt = unravel_index(res1.argmax(), res1.shape)\n",
    "\t\treturn (pt[0] - h1//2, pt[1] - w1//2, pt[0] + h1//2, pt[1] + w1//2)\n",
    "\telse:\t\t\n",
    "\t\tpt = unravel_index(res2.argmax(), res2.shape)\n",
    "\t\treturn (pt[0] - h2//2, pt[1] - w2//2, pt[0] + h2//2, pt[1] + w2//2)"
   ]
  },
  {
   "cell_type": "code",
   "execution_count": 14,
   "metadata": {},
   "outputs": [],
   "source": [
    "def debug():\n",
    "\twith open('dataset/dataset_false.pickle','rb') as f:\n",
    "\t\timage = pickle.load(f)\n",
    "\n",
    "\timage = image[:,:,::-1]\n",
    "\n",
    "\tcv2.imshow('Initial',image)\n",
    "\tcv2.waitKey(0)\n",
    "\n",
    "\tres1 = cv2.matchTemplate(image,templates['sprite_side'],cv2.TM_CCOEFF_NORMED)\n",
    "\tres2 = cv2.matchTemplate(image,templates['sprite_back'],cv2.TM_CCOEFF_NORMED)\n",
    "\n",
    "\tcv2.imshow('res1',res1)\n",
    "\tcv2.waitKey()\n",
    "\n",
    "\tcv2.imshow('res2',res2)\n",
    "\tcv2.waitKey()\n",
    "\n",
    "\th1,w1,_ = templates['sprite_side'].shape[:]\n",
    "\th2,w2,_ = templates['sprite_back'].shape[:]\n",
    "\n",
    "\tif np.amax(res1) > np.amax(res2):\n",
    "\n",
    "\t\tprint (unravel_index(res1.argmax(), res1.shape))\n",
    "\n",
    "\telse:\n",
    "\t\t\n",
    "\t\tprint (unravel_index(res2.argmax(), res2.shape))"
   ]
  },
  {
   "cell_type": "code",
   "execution_count": 15,
   "metadata": {},
   "outputs": [
    {
     "ename": "TypeError",
     "evalue": "list indices must be integers or slices, not tuple",
     "output_type": "error",
     "traceback": [
      "\u001b[1;31m---------------------------------------------------------------------------\u001b[0m",
      "\u001b[1;31mTypeError\u001b[0m                                 Traceback (most recent call last)",
      "\u001b[1;32m<ipython-input-15-562b7cea5782>\u001b[0m in \u001b[0;36m<module>\u001b[1;34m()\u001b[0m\n\u001b[1;32m----> 1\u001b[1;33m \u001b[0mdebug\u001b[0m\u001b[1;33m(\u001b[0m\u001b[1;33m)\u001b[0m\u001b[1;33m\u001b[0m\u001b[0m\n\u001b[0m",
      "\u001b[1;32m<ipython-input-14-cdbfbb087d74>\u001b[0m in \u001b[0;36mdebug\u001b[1;34m()\u001b[0m\n\u001b[0;32m      3\u001b[0m                 \u001b[0mimage\u001b[0m \u001b[1;33m=\u001b[0m \u001b[0mpickle\u001b[0m\u001b[1;33m.\u001b[0m\u001b[0mload\u001b[0m\u001b[1;33m(\u001b[0m\u001b[0mf\u001b[0m\u001b[1;33m)\u001b[0m\u001b[1;33m\u001b[0m\u001b[0m\n\u001b[0;32m      4\u001b[0m \u001b[1;33m\u001b[0m\u001b[0m\n\u001b[1;32m----> 5\u001b[1;33m         \u001b[0mimage\u001b[0m \u001b[1;33m=\u001b[0m \u001b[0mimage\u001b[0m\u001b[1;33m[\u001b[0m\u001b[1;33m:\u001b[0m\u001b[1;33m,\u001b[0m\u001b[1;33m:\u001b[0m\u001b[1;33m,\u001b[0m\u001b[1;33m:\u001b[0m\u001b[1;33m:\u001b[0m\u001b[1;33m-\u001b[0m\u001b[1;36m1\u001b[0m\u001b[1;33m]\u001b[0m\u001b[1;33m\u001b[0m\u001b[0m\n\u001b[0m\u001b[0;32m      6\u001b[0m \u001b[1;33m\u001b[0m\u001b[0m\n\u001b[0;32m      7\u001b[0m         \u001b[0mcv2\u001b[0m\u001b[1;33m.\u001b[0m\u001b[0mimshow\u001b[0m\u001b[1;33m(\u001b[0m\u001b[1;34m'Initial'\u001b[0m\u001b[1;33m,\u001b[0m\u001b[0mimage\u001b[0m\u001b[1;33m)\u001b[0m\u001b[1;33m\u001b[0m\u001b[0m\n",
      "\u001b[1;31mTypeError\u001b[0m: list indices must be integers or slices, not tuple"
     ]
    }
   ],
   "source": [
    "debug()"
   ]
  },
  {
   "cell_type": "code",
   "execution_count": null,
   "metadata": {},
   "outputs": [],
   "source": []
  }
 ],
 "metadata": {
  "kernelspec": {
   "display_name": "Python 3",
   "language": "python",
   "name": "python3"
  },
  "language_info": {
   "codemirror_mode": {
    "name": "ipython",
    "version": 3
   },
   "file_extension": ".py",
   "mimetype": "text/x-python",
   "name": "python",
   "nbconvert_exporter": "python",
   "pygments_lexer": "ipython3",
   "version": "3.7.0"
  }
 },
 "nbformat": 4,
 "nbformat_minor": 2
}
