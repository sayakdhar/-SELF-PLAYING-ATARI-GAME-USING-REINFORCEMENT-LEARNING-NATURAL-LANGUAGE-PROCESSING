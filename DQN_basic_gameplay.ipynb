{
 "cells": [
  {
   "cell_type": "code",
   "execution_count": null,
   "metadata": {},
   "outputs": [],
   "source": [
    "import gym\n",
    "import numpy as np\n",
    "import torch\n",
    "import torch.nn as nn\n",
    "import torch.nn.functional as F\n",
    "import torch.optim as optim\n",
    "import torch.autograd as autograd\n",
    "from readchar import readchar\n",
    "import pickle\n",
    "import cv2\n",
    "import time"
   ]
  },
  {
   "cell_type": "code",
   "execution_count": null,
   "metadata": {},
   "outputs": [],
   "source": [
    "def main():\n",
    "\t\n",
    "\tenv = gym.make('MontezumaRevenge-v0')\n",
    "\n",
    "\tprev_state = env.reset()\n",
    "\n",
    "\tprev_info = {'ale.lives':6}\n",
    "\n",
    "\tenv = gym.make('MontezumaRevenge-v0')\n",
    "\n",
    "\ttext_model = torch.load('models/sentence/text_model_20')\n",
    "\timage_model = torch.load('models/image/image_model_20')\n",
    "\n",
    "\twith open('dataset/dataset_true.pickle','rb') as f:\n",
    "\t\tdataset = pickle.load(f)\n",
    "\n",
    "\twith open('first_room.txt','r') as f:\n",
    "\t\tinstructions = f.readlines()\n",
    "\n",
    "\tinstructions = [i.strip() for i in instructions]\n",
    "\n",
    "\tprint (instructions)\n",
    "\n",
    "\tstate = env.reset()\n",
    "\n",
    "\tinfo = {'ale.lives':6}\n",
    "\n",
    "\tfor t in range(100):\n",
    "\t\t\n",
    "\t\taction = char_to_action()\n",
    "\n",
    "\t\tif action == -1:\n",
    "\t\t\tenv.close()\n",
    "\t\t\tbreak\n",
    "\n",
    "\t\tstate_new, reward, done, info_new = env.step(action)\n",
    "\t\t\n",
    "\t\tstack = np.dstack((state,state_new))\n",
    "\n",
    "\t\tframe_embed = image_model(stack)\n",
    "\n",
    "\t\tenc_sentence = prepare_sentence(instructions[0], word_to_ix)\n",
    "\n",
    "\t\ttext_embed = text_model(enc_sentence)\n",
    "\n",
    "\t\treward = torch.dot(text_embed[0], frame_embed[0]) / (torch.norm(text_embed) * torch.norm(frame_embed))\n",
    "\t\t\n",
    "\t\tr = reward.item()\n",
    "\n",
    "\t\tprint (r)\n",
    "\n",
    "\t\tenv.render()\n",
    "\n",
    "\t\tinfo = info_new\n",
    "\t\tstate = state_new\n",
    "\n",
    "\tprint('Episode %d\\t Episode Reward: %f\\t'%(episode))\n",
    "\n",
    "\tenv.close()"
   ]
  },
  {
   "cell_type": "code",
   "execution_count": null,
   "metadata": {},
   "outputs": [],
   "source": [
    "main()"
   ]
  }
 ],
 "metadata": {
  "kernelspec": {
   "display_name": "Python 3",
   "language": "python",
   "name": "python3"
  },
  "language_info": {
   "codemirror_mode": {
    "name": "ipython",
    "version": 3
   },
   "file_extension": ".py",
   "mimetype": "text/x-python",
   "name": "python",
   "nbconvert_exporter": "python",
   "pygments_lexer": "ipython3",
   "version": "3.7.0"
  }
 },
 "nbformat": 4,
 "nbformat_minor": 2
}
