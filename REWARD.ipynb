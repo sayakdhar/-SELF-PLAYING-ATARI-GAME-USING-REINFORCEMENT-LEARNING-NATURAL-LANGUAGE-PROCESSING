{
 "cells": [
  {
   "cell_type": "code",
   "execution_count": null,
   "metadata": {},
   "outputs": [],
   "source": [
    "import numpy as np\n",
    "import template"
   ]
  },
  {
   "cell_type": "code",
   "execution_count": null,
   "metadata": {},
   "outputs": [],
   "source": [
    "'''\n",
    "1. going down the 1st ladder\n",
    "2. jumping on the rope\n",
    "3. going down the 2nd ladder\n",
    "4. going up the 3rd ladder\n",
    "5. fetching the key\n",
    "6. going down the 3rd ladder\n",
    "7. going up the 2nd ladder\n",
    "8. jumping on the rope\n",
    "9. going up the 1st ladder\n",
    "10. go to the right room\n",
    "'''"
   ]
  },
  {
   "cell_type": "code",
   "execution_count": null,
   "metadata": {},
   "outputs": [],
   "source": [
    "def objects(dict):\n",
    "\treturn\t{\n",
    "\t\t'ladder1':dict['ladder'][0],\n",
    "\t\t'ladder2':dict['ladder'][1],\n",
    "\t\t'ladder3':dict['ladder'][2],\n",
    "\t\t'gate1':dict['gate'][0],\n",
    "\t\t'gate2':dict['gate'][1],\n",
    "\t\t'key':dict['key'],\n",
    "\t\t'rope':dict['rope'],\n",
    "\t}"
   ]
  },
  {
   "cell_type": "code",
   "execution_count": null,
   "metadata": {},
   "outputs": [],
   "source": [
    "class RewardHistory():\n",
    "\n",
    "\tdef __init__(self):\n",
    "\n",
    "\t\tself.room = 1\n",
    "\t\tself.n_rewards = 10\n",
    "\t\tself.rewards = np.ones(self.n_rewards, dtype = float)\n",
    "\n",
    "\t\tself.object_locations = [(0, 0) for _ in range(self.n_rewards)]\n",
    "\t\t\n",
    "\t\tobject_locations = template.find_all_objects()\n",
    "\t\tobject_locations_named = objects(object_locations)\n",
    "\n",
    "\t\tself.object_locations[0] = object_locations_named['ladder1']\n",
    "\t\tself.object_locations[1] = object_locations_named['rope']\n",
    "\t\tself.object_locations[2] = object_locations_named['ladder2']\n",
    "\t\tself.object_locations[3] = object_locations_named['ladder3']\n",
    "\t\tself.object_locations[4] = object_locations_named['key']\n",
    "\t\tself.object_locations[5] = object_locations_named['ladder3']\n",
    "\t\tself.object_locations[6] = object_locations_named['ladder2']\n",
    "\t\tself.object_locations[7] = object_locations_named['rope']\n",
    "\t\tself.object_locations[8] = object_locations_named['ladder1']\n",
    "\t\tself.object_locations[9] = object_locations_named['gate2']\n",
    "\n",
    "\t\tprint (self.object_locations)\n",
    "\n",
    "\tdef reward(self, frameRGB, info_curr, info_next):\n",
    "\n",
    "\t\t# frame_number to be used later\n",
    "\n",
    "\t\tsprite_pos = template.find_sprite(frameRGB)\n",
    "\n",
    "\t\tprint (sprite_pos)\n",
    "\n",
    "\t\treward = 0\n",
    "\n",
    "\t\tif info_next['ale.lives'] < info_curr['ale.lives']:\n",
    "\t\t\treward -= 1\n",
    "\n",
    "\t\tfor i in range(self.n_rewards):\n",
    "\n",
    "\t\t\tif self.rewards[i] == 0:\n",
    "\t\t\t\tcontinue\n",
    "\n",
    "\t\t\tcenter = self.object_locations[i]\n",
    "\n",
    "\t\t\tif sprite_pos[0] <= center[0] and sprite_pos[0] + sprite_pos[2] >= center[0] and sprite_pos[1] <= center[1] and sprite_pos[1] + sprite_pos[3] >= center[1]:\n",
    "\n",
    "\t\t\t\treward = self.rewards[i]\n",
    "\t\t\t\tself.rewards[i] = 0\n",
    "\t\t\t\tbreak\n",
    "\n",
    "\t\treturn reward"
   ]
  }
 ],
 "metadata": {
  "kernelspec": {
   "display_name": "Python 3",
   "language": "python",
   "name": "python3"
  },
  "language_info": {
   "codemirror_mode": {
    "name": "ipython",
    "version": 3
   },
   "file_extension": ".py",
   "mimetype": "text/x-python",
   "name": "python",
   "nbconvert_exporter": "python",
   "pygments_lexer": "ipython3",
   "version": "3.7.0"
  }
 },
 "nbformat": 4,
 "nbformat_minor": 2
}
